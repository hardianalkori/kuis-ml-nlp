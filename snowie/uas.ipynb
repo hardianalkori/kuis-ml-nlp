{
 "cells": [
  {
   "cell_type": "code",
   "execution_count": null,
   "id": "cd2e4ca6",
   "metadata": {},
   "outputs": [],
   "source": [
    "#BLM KELAR"
   ]
  },
  {
   "cell_type": "code",
   "execution_count": 19,
   "id": "991e26ee",
   "metadata": {
    "scrolled": true
   },
   "outputs": [],
   "source": [
    "from gensim.models import FastText"
   ]
  },
  {
   "cell_type": "code",
   "execution_count": 20,
   "id": "6c6f8825",
   "metadata": {},
   "outputs": [],
   "source": [
    "kalimat = []\n",
    "for i in range(0,300):\n",
    "    teks = open(str(i)+\".txt\").readlines()\n",
    "    kalimat.append(teks)"
   ]
  },
  {
   "cell_type": "code",
   "execution_count": 21,
   "id": "f5d7a167",
   "metadata": {},
   "outputs": [],
   "source": [
    "kalimat = [kalimat[i][0].split() for i in range(len(kalimat))]"
   ]
  },
  {
   "cell_type": "code",
   "execution_count": 22,
   "id": "fc504b66",
   "metadata": {},
   "outputs": [
    {
     "data": {
      "text/plain": [
       "7"
      ]
     },
     "execution_count": 22,
     "metadata": {},
     "output_type": "execute_result"
    }
   ],
   "source": [
    "max_n = max([len(i) for i in kalimat])\n",
    "max_n"
   ]
  },
  {
   "cell_type": "code",
   "execution_count": 23,
   "id": "111d8494",
   "metadata": {},
   "outputs": [
    {
     "data": {
      "text/plain": [
       "[['pohon', 'banyak', 'kanan', 'banyak', 'tinggi'],\n",
       " ['kau', 'ingin', 'kecil'],\n",
       " ['penyemangatku', 'happy', 'gampang', 'akulah'],\n",
       " ['di', 'jauh', 'aku', 'tempat', 'kecil', 'langit'],\n",
       " ['angkasa', 'angkasa', 'ke'],\n",
       " ['kecil', 'terbang', 'berada', 'biru', 'bintang', 'di', 'terbang'],\n",
       " ['ayam', 'happy', 'sapi'],\n",
       " ['berada', 'terbang', 'langit', 'dan', 'langit'],\n",
       " ['cemara', 'cemara', 'sekali', 'cemara', 'puncak'],\n",
       " ['langit', 'banyak', 'jauh', 'langit'],\n",
       " ['hidupku', 'kuat', 'kuat'],\n",
       " ['aku', 'biru', 'angkasa'],\n",
       " ['yang', 'tempat', 'ke', 'kecil', 'amat'],\n",
       " ['akulah', 'ayam', 'ku', 'hidupku', 'kasar'],\n",
       " ['ngguyu', 'ku', 'aku', 'adalah', 'hidupku'],\n",
       " ['ke', 'pohon', 'kulihat', 'kulihat', 'naik'],\n",
       " ['ke', 'banyak', 'yang'],\n",
       " ['aku', 'aku', 'angkasa', 'berada', 'bintang'],\n",
       " ['cemara', 'saja', 'sekali'],\n",
       " ['kulihat', 'gunung', 'saja', 'sekali'],\n",
       " ['kulihat', 'sekali', 'kanan', 'naik'],\n",
       " ['cemara', 'naik', 'pohon', 'banyak', 'kulihat'],\n",
       " ['banyak', 'yang', 'berada', 'angkasa', 'tinggi', 'kau'],\n",
       " ['kuat', 'sabar', 'aku', 'queen', 'ngguyu'],\n",
       " ['bintang', 'amat', 'angkasa', 'ingin', 'tempat'],\n",
       " ['puncak', 'kanan', 'banyak', 'saja', 'puncak', 'gunung'],\n",
       " ['bintang', 'ke', 'kecil'],\n",
       " ['kulihat', 'pohon', 'kanan', 'kulihat', 'saja', 'kanan', 'tinggi'],\n",
       " ['gunung', 'kanan', 'cemara', 'cemara', 'kiri'],\n",
       " ['sabar', 'happy', 'kasar', 'ku', 'happy', 'kuat', 'makan'],\n",
       " ['biru', 'jauh', 'tinggi', 'dan', 'biru'],\n",
       " ['kanan', 'banyak', 'naik', 'kanan', 'kiri', 'pohon'],\n",
       " ['tenteram', 'aku', 'kuat', 'puyuh', 'sabar', 'kuat'],\n",
       " ['tempat', 'ingin', 'kecil', 'berada', 'menghias'],\n",
       " ['angkasa', 'yang', 'langit', 'ingin', 'aku', 'biru'],\n",
       " ['tinggi', 'kiri', 'gunung', 'kulihat'],\n",
       " ['kasar', 'pentol', 'pentol', 'sabar'],\n",
       " ['pohon', 'cemara', 'saja', 'cemara', 'puncak', 'kanan', 'puncak'],\n",
       " ['puncak', 'pohon', 'kanan'],\n",
       " ['makan', 'sabar', 'aku', 'adalah'],\n",
       " ['kanan', 'saja', 'kulihat'],\n",
       " ['banyak', 'kiri', 'kulihat', 'puncak', 'kulihat', 'naik', 'tinggi'],\n",
       " ['gampang', 'kasar', 'makan', 'makan', 'karena', 'queen'],\n",
       " ['jauh', 'dan', 'amat', 'jauh', 'kau'],\n",
       " ['saja', 'banyak', 'cemara', 'sekali'],\n",
       " ['kiri', 'kanan', 'puncak', 'puncak', 'naik'],\n",
       " ['berada', 'aku', 'ke', 'tinggi', 'tempat'],\n",
       " ['ku', 'queen', 'tujuan', 'mengingat', 'sabar', 'tenteram', 'sabar'],\n",
       " ['terbang', 'bintang', 'tempat'],\n",
       " ['kau', 'langit', 'menghias', 'bintang', 'menari', 'ke'],\n",
       " ['sapi', 'kasar', 'tujuan', 'akulah', 'ku', 'sabar', 'kuat'],\n",
       " ['pohon', 'pohon', 'ke', 'naik', 'sekali', 'gunung'],\n",
       " ['ayam', 'hidupku', 'karena', 'akulah', 'kuat', 'mengingat', 'karena'],\n",
       " ['kuat', 'queen', 'mengingat', 'kuat'],\n",
       " ['penyemangatku', 'bikin', 'akulah', 'makan', 'queen'],\n",
       " ['ke', 'cemara', 'naik', 'gunung', 'gunung', 'tinggi', 'sekali'],\n",
       " ['queen', 'kasar', 'sabar', 'hidupku', 'tujuan'],\n",
       " ['cemara', 'sekali', 'kulihat', 'naik', 'naik', 'kulihat', 'kanan'],\n",
       " ['naik', 'ke', 'gunung', 'cemara', 'kulihat', 'sekali'],\n",
       " ['puncak', 'kanan', 'kanan', 'kiri', 'saja'],\n",
       " ['hidupku', 'pentol', 'hidupku', 'queen'],\n",
       " ['puncak', 'naik', 'kiri', 'pohon', 'kanan', 'banyak', 'pohon'],\n",
       " ['naik', 'pohon', 'kiri', 'tinggi', 'tinggi', 'ke', 'kiri'],\n",
       " ['naik', 'puncak', 'kulihat', 'tinggi', 'kanan'],\n",
       " ['pentol', 'pentol', 'ayam'],\n",
       " ['kanan', 'tinggi', 'naik'],\n",
       " ['ayam', 'kasar', 'ngguyu', 'akulah'],\n",
       " ['tinggi', 'gunung', 'tinggi', 'kulihat', 'banyak'],\n",
       " ['kanan', 'naik', 'ke', 'banyak', 'gunung', 'kulihat'],\n",
       " ['kanan', 'ke', 'puncak'],\n",
       " ['bikin', 'ayam', 'penyemangatku'],\n",
       " ['kanan', 'cemara', 'naik', 'kanan'],\n",
       " ['banyak', 'puncak', 'pohon', 'naik', 'gunung'],\n",
       " ['kulihat', 'pohon', 'kanan', 'naik', 'naik'],\n",
       " ['cemara', 'sekali', 'banyak', 'kanan', 'tinggi'],\n",
       " ['amat', 'tinggi', 'angkasa', 'kecil'],\n",
       " ['kasar', 'hidupku', 'tenteram', 'penyemangatku', 'kasar'],\n",
       " ['pohon', 'saja', 'kiri'],\n",
       " ['sapi', 'sabar', 'happy', 'tujuan', 'bikin', 'sapi', 'pentol'],\n",
       " ['yang', 'terbang', 'tempat', 'kau', 'dan', 'kau'],\n",
       " ['amat', 'angkasa', 'bintang'],\n",
       " ['biru', 'terbang', 'di', 'menghias', 'menghias'],\n",
       " ['bintang', 'ingin', 'di', 'ingin'],\n",
       " ['penyemangatku', 'akulah', 'aku', 'sapi', 'mengingat'],\n",
       " ['makan', 'tenteram', 'puyuh', 'happy', 'pentol', 'akulah', 'tenteram'],\n",
       " ['ke', 'menghias', 'aku', 'yang', 'tempat'],\n",
       " ['mengingat', 'kuat', 'hidupku', 'ngguyu'],\n",
       " ['saja', 'tinggi', 'kiri', 'pohon'],\n",
       " ['makan', 'sabar', 'sapi', 'gampang', 'tenteram', 'ngguyu'],\n",
       " ['banyak', 'naik', 'kiri', 'kulihat', 'ke', 'banyak'],\n",
       " ['gunung', 'kanan', 'gunung', 'puncak', 'gunung', 'gunung', 'gunung'],\n",
       " ['pohon', 'gunung', 'cemara', 'banyak', 'sekali', 'naik'],\n",
       " ['banyak', 'bintang', 'dan', 'yang'],\n",
       " ['tempat', 'tempat', 'yang', 'tempat', 'kau'],\n",
       " ['jauh', 'langit', 'menari'],\n",
       " ['bikin', 'mengingat', 'penyemangatku'],\n",
       " ['banyak', 'kiri', 'banyak', 'saja'],\n",
       " ['queen', 'ku', 'makan', 'sabar', 'bikin'],\n",
       " ['kecil', 'dan', 'menghias', 'tinggi'],\n",
       " ['menghias', 'aku', 'aku'],\n",
       " ['di', 'angkasa', 'menari', 'terbang', 'aku'],\n",
       " ['angkasa', 'dan', 'ke', 'jauh', 'bintang'],\n",
       " ['banyak', 'kulihat', 'puncak'],\n",
       " ['karena', 'aku', 'ngguyu'],\n",
       " ['gampang', 'puyuh', 'puyuh', 'makan', 'kasar'],\n",
       " ['kiri', 'kiri', 'ke', 'banyak', 'naik'],\n",
       " ['kulihat', 'puncak', 'tinggi'],\n",
       " ['kau', 'biru', 'yang', 'langit', 'menghias'],\n",
       " ['berada', 'ingin', 'menghias', 'di', 'ke'],\n",
       " ['kecil', 'ke', 'bintang', 'berada'],\n",
       " ['aku', 'terbang', 'di'],\n",
       " ['queen', 'ayam', 'aku'],\n",
       " ['pentol', 'bikin', 'adalah', 'puyuh', 'pentol', 'queen', 'gampang'],\n",
       " ['kanan', 'naik', 'ke', 'sekali', 'puncak', 'pohon'],\n",
       " ['tenteram', 'sabar', 'ngguyu', 'tenteram'],\n",
       " ['tempat', 'angkasa', 'dan', 'yang'],\n",
       " ['penyemangatku',\n",
       "  'akulah',\n",
       "  'happy',\n",
       "  'mengingat',\n",
       "  'sabar',\n",
       "  'gampang',\n",
       "  'kasar'],\n",
       " ['mengingat', 'hidupku', 'akulah', 'tujuan'],\n",
       " ['sekali', 'sekali', 'naik', 'naik', 'banyak', 'tinggi'],\n",
       " ['kasar', 'aku', 'gampang'],\n",
       " ['tenteram', 'queen', 'tujuan', 'gampang', 'ku'],\n",
       " ['saja', 'saja', 'pohon', 'pohon', 'kulihat'],\n",
       " ['tinggi', 'menghias', 'jauh', 'ingin', 'di', 'amat'],\n",
       " ['puncak', 'puncak', 'kiri', 'pohon', 'banyak', 'cemara', 'kiri'],\n",
       " ['pohon', 'banyak', 'saja', 'cemara'],\n",
       " ['terbang', 'amat', 'yang', 'tempat', 'angkasa', 'ke', 'aku'],\n",
       " ['aku', 'tinggi', 'menari', 'ingin', 'di'],\n",
       " ['tenteram', 'happy', 'tujuan', 'akulah', 'sapi'],\n",
       " ['kulihat', 'puncak', 'kulihat', 'naik', 'saja', 'ke', 'ke'],\n",
       " ['happy', 'sabar', 'ngguyu', 'adalah', 'kasar', 'mengingat'],\n",
       " ['pohon', 'kanan', 'cemara', 'gunung', 'cemara'],\n",
       " ['pentol', 'pentol', 'mengingat', 'ngguyu', 'adalah'],\n",
       " ['menghias', 'tempat', 'langit', 'ingin', 'terbang'],\n",
       " ['jauh', 'ingin', 'terbang', 'tinggi'],\n",
       " ['sabar', 'mengingat', 'sapi', 'ngguyu', 'ngguyu'],\n",
       " ['langit', 'jauh', 'ke', 'biru', 'angkasa'],\n",
       " ['adalah', 'queen', 'penyemangatku', 'penyemangatku', 'ayam', 'happy'],\n",
       " ['berada', 'yang', 'amat', 'tinggi', 'terbang', 'angkasa'],\n",
       " ['ke', 'gunung', 'kulihat'],\n",
       " ['kiri', 'puncak', 'saja', 'naik', 'kulihat', 'kiri'],\n",
       " ['queen', 'queen', 'hidupku', 'ngguyu', 'ku', 'akulah', 'kuat'],\n",
       " ['tinggi', 'ingin', 'di', 'ingin', 'tinggi', 'ingin', 'berada'],\n",
       " ['kecil', 'ke', 'kecil', 'kau', 'langit', 'amat'],\n",
       " ['pentol', 'pentol', 'happy', 'ayam'],\n",
       " ['jauh', 'tempat', 'di', 'terbang'],\n",
       " ['bikin', 'akulah', 'sapi', 'sabar'],\n",
       " ['puncak', 'kanan', 'tinggi', 'kulihat'],\n",
       " ['ku', 'gampang', 'pentol', 'ayam', 'penyemangatku', 'tenteram'],\n",
       " ['langit', 'biru', 'berada', 'biru', 'yang', 'menghias', 'bintang'],\n",
       " ['gunung', 'kanan', 'kulihat', 'ke'],\n",
       " ['aku', 'menghias', 'ke', 'ke'],\n",
       " ['kanan', 'ke', 'pohon'],\n",
       " ['sabar', 'kasar', 'kuat', 'penyemangatku', 'karena', 'karena', 'kasar'],\n",
       " ['queen', 'ku', 'pentol', 'ayam', 'kasar'],\n",
       " ['jauh', 'aku', 'menghias', 'menari', 'angkasa', 'langit', 'banyak'],\n",
       " ['menari', 'langit', 'dan', 'ingin', 'aku', 'banyak', 'terbang'],\n",
       " ['bintang', 'di', 'tinggi', 'tinggi', 'tinggi'],\n",
       " ['ke', 'berada', 'kecil'],\n",
       " ['karena', 'sabar', 'hidupku', 'bikin', 'hidupku', 'sapi', 'sabar'],\n",
       " ['happy', 'tujuan', 'aku', 'ayam', 'makan'],\n",
       " ['sapi', 'akulah', 'tenteram'],\n",
       " ['kulihat', 'kulihat', 'gunung', 'tinggi', 'pohon'],\n",
       " ['menghias', 'ke', 'kau'],\n",
       " ['kanan', 'tinggi', 'puncak', 'kanan'],\n",
       " ['berada', 'tinggi', 'terbang', 'dan'],\n",
       " ['kasar', 'sabar', 'hidupku', 'tenteram'],\n",
       " ['penyemangatku', 'bikin', 'ngguyu', 'tujuan', 'akulah', 'tenteram'],\n",
       " ['ingin', 'amat', 'tinggi'],\n",
       " ['queen', 'ngguyu', 'hidupku', 'sapi'],\n",
       " ['sapi', 'sabar', 'ku', 'sapi', 'tujuan', 'puyuh', 'akulah'],\n",
       " ['ngguyu', 'aku', 'adalah', 'kuat'],\n",
       " ['ke', 'biru', 'ke', 'angkasa', 'ingin'],\n",
       " ['queen', 'karena', 'ku', 'puyuh', 'bikin', 'aku'],\n",
       " ['naik', 'banyak', 'naik'],\n",
       " ['happy', 'ayam', 'kasar', 'bikin', 'tujuan', 'happy', 'penyemangatku'],\n",
       " ['kuat', 'aku', 'ku'],\n",
       " ['amat', 'banyak', 'biru', 'jauh', 'aku', 'menghias', 'ingin'],\n",
       " ['jauh', 'amat', 'tempat'],\n",
       " ['akulah', 'kasar', 'mengingat', 'tujuan', 'tenteram'],\n",
       " ['angkasa', 'di', 'banyak'],\n",
       " ['tinggi', 'puncak', 'puncak', 'saja', 'sekali', 'banyak'],\n",
       " ['bintang', 'langit', 'kau', 'berada'],\n",
       " ['ke', 'ke', 'gunung', 'banyak', 'saja', 'gunung'],\n",
       " ['langit', 'angkasa', 'di', 'yang', 'angkasa', 'aku', 'aku'],\n",
       " ['kanan', 'ke', 'naik', 'sekali', 'tinggi', 'gunung', 'pohon'],\n",
       " ['biru', 'tinggi', 'amat', 'di'],\n",
       " ['berada', 'menari', 'biru', 'jauh', 'aku'],\n",
       " ['cemara', 'kanan', 'sekali', 'kiri'],\n",
       " ['jauh', 'tempat', 'di'],\n",
       " ['menari', 'kecil', 'bintang', 'banyak', 'menghias', 'menghias'],\n",
       " ['terbang', 'tempat', 'terbang', 'biru', 'amat', 'bintang'],\n",
       " ['gunung', 'puncak', 'kiri', 'pohon', 'kiri', 'gunung', 'banyak'],\n",
       " ['banyak', 'bintang', 'tinggi', 'berada', 'dan', 'banyak'],\n",
       " ['pohon', 'kanan', 'sekali'],\n",
       " ['tinggi', 'pohon', 'kulihat', 'saja', 'kulihat', 'cemara', 'naik'],\n",
       " ['kulihat', 'tinggi', 'ke'],\n",
       " ['gunung', 'gunung', 'sekali', 'gunung', 'sekali', 'naik', 'puncak'],\n",
       " ['kasar', 'kuat', 'makan', 'hidupku', 'kuat', 'pentol'],\n",
       " ['aku', 'tempat', 'ingin', 'yang'],\n",
       " ['cemara', 'puncak', 'puncak', 'kiri'],\n",
       " ['gampang', 'akulah', 'mengingat', 'kasar', 'aku', 'akulah'],\n",
       " ['jauh', 'angkasa', 'amat', 'dan', 'kau'],\n",
       " ['mengingat', 'tujuan', 'sabar', 'tujuan', 'queen', 'sabar', 'puyuh'],\n",
       " ['kulihat', 'kanan', 'banyak', 'saja', 'saja', 'kiri'],\n",
       " ['banyak', 'amat', 'berada'],\n",
       " ['saja', 'banyak', 'sekali', 'naik'],\n",
       " ['tempat', 'dan', 'angkasa', 'bintang'],\n",
       " ['karena', 'aku', 'bikin', 'adalah'],\n",
       " ['gunung', 'kiri', 'banyak', 'tinggi', 'ke', 'kiri', 'puncak'],\n",
       " ['karena', 'karena', 'happy', 'happy', 'queen'],\n",
       " ['kanan', 'sekali', 'kanan', 'ke', 'sekali'],\n",
       " ['kiri', 'naik', 'kanan', 'ke', 'saja'],\n",
       " ['amat', 'menari', 'bintang', 'langit'],\n",
       " ['kau', 'bintang', 'di'],\n",
       " ['kulihat', 'gunung', 'pohon', 'ke', 'ke', 'kanan', 'sekali'],\n",
       " ['tempat', 'menari', 'banyak', 'di'],\n",
       " ['tempat', 'banyak', 'ingin', 'dan', 'menari'],\n",
       " ['happy', 'kasar', 'tenteram', 'makan', 'tujuan'],\n",
       " ['tinggi', 'saja', 'ke', 'cemara', 'cemara', 'kulihat', 'puncak'],\n",
       " ['pohon', 'banyak', 'naik', 'kulihat', 'puncak'],\n",
       " ['tenteram', 'happy', 'adalah', 'tujuan'],\n",
       " ['adalah', 'ku', 'hidupku', 'gampang', 'kuat'],\n",
       " ['karena', 'kasar', 'ayam', 'adalah', 'kuat', 'aku'],\n",
       " ['puyuh', 'makan', 'queen', 'mengingat', 'hidupku', 'karena'],\n",
       " ['aku', 'tinggi', 'amat', 'amat', 'kau'],\n",
       " ['tujuan', 'ku', 'tenteram', 'ayam'],\n",
       " ['banyak', 'naik', 'gunung'],\n",
       " ['langit', 'yang', 'berada'],\n",
       " ['amat', 'amat', 'angkasa'],\n",
       " ['ke', 'tinggi', 'tinggi'],\n",
       " ['gampang', 'adalah', 'makan', 'happy', 'karena', 'akulah', 'mengingat'],\n",
       " ['bikin', 'queen', 'aku', 'tenteram'],\n",
       " ['berada', 'tinggi', 'di', 'yang', 'biru', 'ke'],\n",
       " ['tempat', 'jauh', 'bintang', 'dan', 'aku', 'tempat'],\n",
       " ['langit', 'kau', 'jauh', 'ke', 'tinggi'],\n",
       " ['biru', 'dan', 'tinggi'],\n",
       " ['aku', 'pentol', 'kuat'],\n",
       " ['penyemangatku', 'sabar', 'aku'],\n",
       " ['ku', 'kuat', 'pentol', 'karena', 'puyuh', 'bikin', 'aku'],\n",
       " ['penyemangatku', 'hidupku', 'akulah', 'karena'],\n",
       " ['ke', 'di', 'menghias', 'banyak'],\n",
       " ['gunung', 'cemara', 'gunung', 'kiri'],\n",
       " ['tenteram', 'akulah', 'kuat', 'akulah', 'kasar', 'tenteram', 'tujuan'],\n",
       " ['dan', 'menari', 'amat', 'di', 'langit', 'yang', 'langit'],\n",
       " ['gunung', 'ke', 'saja', 'saja'],\n",
       " ['tinggi', 'naik', 'kanan', 'gunung'],\n",
       " ['kuat', 'sapi', 'ayam', 'gampang'],\n",
       " ['tinggi', 'banyak', 'gunung', 'tinggi', 'ke', 'naik'],\n",
       " ['happy', 'ku', 'bikin', 'hidupku'],\n",
       " ['ke', 'ke', 'naik', 'banyak', 'tinggi', 'kanan', 'kiri'],\n",
       " ['terbang', 'aku', 'yang', 'bintang', 'tempat'],\n",
       " ['cemara', 'puncak', 'banyak', 'naik'],\n",
       " ['ngguyu', 'akulah', 'tujuan', 'hidupku', 'sapi', 'akulah', 'happy'],\n",
       " ['kasar', 'tujuan', 'ayam', 'tujuan', 'ayam'],\n",
       " ['menghias', 'bintang', 'kau'],\n",
       " ['adalah', 'hidupku', 'ayam', 'akulah'],\n",
       " ['jauh', 'berada', 'ingin', 'di', 'amat'],\n",
       " ['kulihat', 'kulihat', 'naik', 'kulihat', 'puncak', 'puncak', 'gunung'],\n",
       " ['hidupku', 'sabar', 'happy', 'sabar', 'hidupku', 'kuat', 'gampang'],\n",
       " ['kau', 'menari', 'amat', 'ingin', 'kau'],\n",
       " ['gunung', 'pohon', 'ke', 'pohon', 'puncak', 'puncak', 'naik'],\n",
       " ['kiri', 'banyak', 'kulihat', 'puncak', 'tinggi', 'kanan'],\n",
       " ['bikin', 'penyemangatku', 'ku'],\n",
       " ['sapi', 'ayam', 'queen', 'hidupku'],\n",
       " ['adalah',\n",
       "  'sabar',\n",
       "  'karena',\n",
       "  'mengingat',\n",
       "  'penyemangatku',\n",
       "  'karena',\n",
       "  'makan'],\n",
       " ['banyak', 'kanan', 'saja', 'cemara', 'pohon', 'gunung'],\n",
       " ['sekali', 'banyak', 'naik', 'kanan', 'pohon'],\n",
       " ['happy', 'ayam', 'tujuan', 'kuat', 'ayam', 'tujuan'],\n",
       " ['sekali', 'saja', 'saja'],\n",
       " ['kiri', 'kulihat', 'cemara', 'sekali', 'kanan'],\n",
       " ['pohon', 'sekali', 'sekali', 'gunung'],\n",
       " ['adalah', 'ku', 'bikin'],\n",
       " ['bikin', 'queen', 'pentol'],\n",
       " ['ngguyu', 'queen', 'queen', 'ku'],\n",
       " ['angkasa', 'berada', 'yang'],\n",
       " ['kecil', 'ingin', 'kecil', 'ingin', 'berada'],\n",
       " ['kecil', 'biru', 'kau', 'di'],\n",
       " ['makan', 'penyemangatku', 'makan', 'penyemangatku'],\n",
       " ['hidupku', 'kasar', 'sapi', 'sabar'],\n",
       " ['ku', 'kuat', 'tujuan', 'aku'],\n",
       " ['pentol', 'queen', 'puyuh', 'pentol'],\n",
       " ['berada', 'aku', 'berada', 'ingin'],\n",
       " ['tinggi', 'kiri', 'gunung', 'saja', 'saja'],\n",
       " ['tinggi', 'kanan', 'sekali', 'gunung', 'kulihat', 'tinggi', 'cemara'],\n",
       " ['pohon', 'puncak', 'kanan', 'kanan', 'pohon', 'sekali'],\n",
       " ['kiri', 'gunung', 'saja', 'kulihat', 'puncak', 'puncak'],\n",
       " ['tinggi', 'angkasa', 'amat', 'angkasa'],\n",
       " ['ingin', 'angkasa', 'ke', 'menari', 'banyak'],\n",
       " ['angkasa', 'terbang', 'yang'],\n",
       " ['dan', 'dan', 'ke'],\n",
       " ['mengingat', 'aku', 'happy', 'kasar', 'queen', 'puyuh', 'adalah'],\n",
       " ['kulihat', 'saja', 'tinggi', 'pohon', 'cemara', 'ke', 'pohon'],\n",
       " ['biru', 'menari', 'tempat', 'berada', 'amat', 'terbang', 'di'],\n",
       " ['jauh', 'terbang', 'ingin', 'di', 'ingin', 'tinggi', 'menghias'],\n",
       " ['cemara', 'naik', 'tinggi', 'ke', 'banyak', 'banyak'],\n",
       " ['karena', 'ayam', 'makan', 'akulah'],\n",
       " ['tinggi', 'tinggi', 'kulihat', 'gunung', 'ke', 'ke'],\n",
       " ['banyak', 'kiri', 'tinggi', 'saja', 'kulihat', 'cemara'],\n",
       " ['sabar', 'tujuan', 'mengingat', 'kasar', 'karena', 'bikin', 'mengingat'],\n",
       " ['akulah', 'kuat', 'hidupku', 'tenteram', 'makan']]"
      ]
     },
     "execution_count": 23,
     "metadata": {},
     "output_type": "execute_result"
    }
   ],
   "source": [
    "kalimat"
   ]
  },
  {
   "cell_type": "code",
   "execution_count": 24,
   "id": "e81b5b7f",
   "metadata": {},
   "outputs": [],
   "source": [
    "corpus = kalimat\n",
    "model = FastText(vector_size = max_n,\n",
    "                window = 3,\n",
    "                min_count = 1,\n",
    "                sentences = corpus,\n",
    "                epochs = 10)"
   ]
  },
  {
   "cell_type": "code",
   "execution_count": 25,
   "id": "f05cb2b8",
   "metadata": {},
   "outputs": [
    {
     "data": {
      "text/plain": [
       "(4179, 14760)"
      ]
     },
     "execution_count": 25,
     "metadata": {},
     "output_type": "execute_result"
    }
   ],
   "source": [
    "model.train(corpus_iterable=corpus, total_examples=len(corpus), epochs=10)"
   ]
  },
  {
   "cell_type": "code",
   "execution_count": 26,
   "id": "2ab4a6d6",
   "metadata": {
    "scrolled": true
   },
   "outputs": [],
   "source": [
    "from sklearn.metrics.pairwise import cosine_similarity"
   ]
  },
  {
   "cell_type": "code",
   "execution_count": 34,
   "id": "92874317",
   "metadata": {
    "scrolled": true
   },
   "outputs": [],
   "source": [
    "nim_gue = model.wv[\"pentol\"].reshape(1,-1)"
   ]
  },
  {
   "cell_type": "code",
   "execution_count": 35,
   "id": "31fa28cc",
   "metadata": {},
   "outputs": [
    {
     "data": {
      "text/plain": [
       "array([[-0.08854787,  0.05840404, -0.17343062,  0.2080426 , -0.07802194,\n",
       "        -0.0242411 ,  0.15993352]], dtype=float32)"
      ]
     },
     "execution_count": 35,
     "metadata": {},
     "output_type": "execute_result"
    }
   ],
   "source": [
    "nim_gue"
   ]
  },
  {
   "cell_type": "code",
   "execution_count": 36,
   "id": "41fbc8d6",
   "metadata": {},
   "outputs": [],
   "source": [
    "idx = []\n",
    "for i in range(0,300):\n",
    "    if i == 153:\n",
    "        pass\n",
    "    else:\n",
    "        x = open(str(i)+\".txt\").readline().strip()\n",
    "        c = cosine_similarity(nim_gue,model.wv[x].reshape(1,-1))\n",
    "        idx.append(c[0][0])\n",
    "    "
   ]
  },
  {
   "cell_type": "code",
   "execution_count": 37,
   "id": "cf17629d",
   "metadata": {},
   "outputs": [
    {
     "data": {
      "text/plain": [
       "171"
      ]
     },
     "execution_count": 37,
     "metadata": {},
     "output_type": "execute_result"
    }
   ],
   "source": [
    "idx.index(max(idx))"
   ]
  },
  {
   "cell_type": "code",
   "execution_count": 40,
   "id": "9014236d",
   "metadata": {},
   "outputs": [
    {
     "data": {
      "text/plain": [
       "'ke biru ke angkasa ingin '"
      ]
     },
     "execution_count": 40,
     "metadata": {},
     "output_type": "execute_result"
    }
   ],
   "source": [
    "open(\"171.txt\").readline()"
   ]
  },
  {
   "cell_type": "code",
   "execution_count": 105,
   "id": "51659c13",
   "metadata": {},
   "outputs": [
    {
     "name": "stdout",
     "output_type": "stream",
     "text": [
      "0.9965703\n"
     ]
    }
   ],
   "source": [
    "print(idx[271])"
   ]
  },
  {
   "cell_type": "code",
   "execution_count": 83,
   "id": "fb82130a",
   "metadata": {},
   "outputs": [
    {
     "data": {
      "text/plain": [
       "array([[0.98189753]], dtype=float32)"
      ]
     },
     "execution_count": 83,
     "metadata": {},
     "output_type": "execute_result"
    }
   ],
   "source": [
    "cosine_similarity(nim_gue,model.wv[\"langit biru berada biru yang menghias bintang\"].reshape(1,-1))"
   ]
  },
  {
   "cell_type": "code",
   "execution_count": 106,
   "id": "678c58c0",
   "metadata": {},
   "outputs": [
    {
     "data": {
      "text/plain": [
       "array([[-0.02221973,  0.0267251 , -0.04703705,  0.06308581, -0.02706773,\n",
       "        -0.01620316,  0.05213752]], dtype=float32)"
      ]
     },
     "execution_count": 106,
     "metadata": {},
     "output_type": "execute_result"
    }
   ],
   "source": [
    "nim_gue"
   ]
  }
 ],
 "metadata": {
  "kernelspec": {
   "display_name": "Python 3 (ipykernel)",
   "language": "python",
   "name": "python3"
  },
  "language_info": {
   "codemirror_mode": {
    "name": "ipython",
    "version": 3
   },
   "file_extension": ".py",
   "mimetype": "text/x-python",
   "name": "python",
   "nbconvert_exporter": "python",
   "pygments_lexer": "ipython3",
   "version": "3.10.7"
  }
 },
 "nbformat": 4,
 "nbformat_minor": 5
}
