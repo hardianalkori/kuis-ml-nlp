{
 "cells": [
  {
   "cell_type": "code",
   "execution_count": null,
   "id": "881f5587",
   "metadata": {},
   "outputs": [],
   "source": [
    "# Hardian Alkori\n",
    "# 20102153\n",
    "# 84a93"
   ]
  },
  {
   "cell_type": "code",
   "execution_count": 110,
   "id": "05a10a7e",
   "metadata": {
    "scrolled": true
   },
   "outputs": [],
   "source": [
    "from gensim.models import FastText #import fasttext"
   ]
  },
  {
   "cell_type": "code",
   "execution_count": 111,
   "id": "fc18feee",
   "metadata": {},
   "outputs": [],
   "source": [
    "#load data\n",
    "kalimat = []\n",
    "for i in range(0,300):\n",
    "    teks = open(str(i)+\".txt\").readlines()\n",
    "    kalimat.append(teks)"
   ]
  },
  {
   "cell_type": "code",
   "execution_count": 112,
   "id": "6cac3274",
   "metadata": {},
   "outputs": [
    {
     "name": "stdout",
     "output_type": "stream",
     "text": [
      "['queen ku pentol ayam kasar ']\n"
     ]
    }
   ],
   "source": [
    "# File berdasarkan nim\n",
    "print(kalimat[153])"
   ]
  },
  {
   "cell_type": "code",
   "execution_count": 113,
   "id": "93b5198d",
   "metadata": {},
   "outputs": [],
   "source": [
    "# Split kalimat\n",
    "kalimat = [kalimat[i][0].split() for i in range(len(kalimat))]"
   ]
  },
  {
   "cell_type": "code",
   "execution_count": 114,
   "id": "ae24f6a1",
   "metadata": {},
   "outputs": [
    {
     "data": {
      "text/plain": [
       "7"
      ]
     },
     "execution_count": 114,
     "metadata": {},
     "output_type": "execute_result"
    }
   ],
   "source": [
    "# mencari kalimat terpanjang\n",
    "max_n = max([len(i) for i in kalimat])\n",
    "max_n"
   ]
  },
  {
   "cell_type": "code",
   "execution_count": 115,
   "id": "26a9ac71",
   "metadata": {},
   "outputs": [],
   "source": [
    "#inisialisasi training\n",
    "corpus = kalimat\n",
    "model = FastText(vector_size = max_n,\n",
    "                window = 3,\n",
    "                min_count = 1,\n",
    "                sentences = corpus,\n",
    "                epochs = 10)"
   ]
  },
  {
   "cell_type": "code",
   "execution_count": 116,
   "id": "2b4b719d",
   "metadata": {},
   "outputs": [
    {
     "data": {
      "text/plain": [
       "(4179, 14760)"
      ]
     },
     "execution_count": 116,
     "metadata": {},
     "output_type": "execute_result"
    }
   ],
   "source": [
    "#training model\n",
    "model.train(corpus_iterable=corpus, total_examples=len(corpus), epochs=10)"
   ]
  },
  {
   "cell_type": "code",
   "execution_count": 117,
   "id": "6ad260e5",
   "metadata": {
    "scrolled": true
   },
   "outputs": [],
   "source": [
    "#import cosine similarity\n",
    "from sklearn.metrics.pairwise import cosine_similarity"
   ]
  },
  {
   "cell_type": "code",
   "execution_count": 83,
   "id": "b005d83e",
   "metadata": {},
   "outputs": [],
   "source": [
    "# memasukan data teks\n",
    "data = []\n",
    "for i in range(0,300):\n",
    "    teks = open(str(i)+\".txt\").readline()\n",
    "    data.append(teks.strip())"
   ]
  },
  {
   "cell_type": "code",
   "execution_count": 84,
   "id": "dd165732",
   "metadata": {},
   "outputs": [],
   "source": [
    "# hapus data index ke 153\n",
    "del data[153]"
   ]
  },
  {
   "cell_type": "code",
   "execution_count": 90,
   "id": "6f4bb751",
   "metadata": {},
   "outputs": [],
   "source": [
    "# mencari kemiripan 2 vektor dengan cosine similarity\n",
    "from sklearn.metrics.pairwise import cosine_similarity\n",
    "import numpy as np\n",
    "\n",
    "kemiripan = []\n",
    "\n",
    "def cosine(dok1,dok2):\n",
    "\n",
    "    kal0_vec = np.zeros((7))\n",
    "    for kata in kal0.split():\n",
    "        try:\n",
    "            kal0_vec += model.wv[kata]\n",
    "        except KeyError:\n",
    "            continue\n",
    "\n",
    "    kal1_vec = np.zeros((7))\n",
    "    for kata in kal1.split():\n",
    "        try:\n",
    "            kal1_vec += model.wv[kata]\n",
    "        except KeyError:\n",
    "            continue\n",
    "            \n",
    "    dok0 = []\n",
    "    dok1 = []\n",
    "    dok0.append(kal0_vec)\n",
    "    dok1.append(kal1_vec)\n",
    "\n",
    "    dok0 = np.asarray(dok0)\n",
    "    dok1 = np.asarray(dok1)\n",
    "\n",
    "    return cosine_similarity(dok0,dok1).tolist()\n",
    "\n",
    "\n",
    "for i in data:\n",
    "    kal0 = \"queen ku pentol ayam kasar\"\n",
    "    kal1 = i.lower()\n",
    "    x = cosine(kal0,kal1)\n",
    "    kemiripan.append(x)"
   ]
  },
  {
   "cell_type": "code",
   "execution_count": 93,
   "id": "6b55f823",
   "metadata": {},
   "outputs": [
    {
     "name": "stdout",
     "output_type": "stream",
     "text": [
      "queen ku makan sabar bikin\n"
     ]
    }
   ],
   "source": [
    "#kalimat termirip\n",
    "idx_teks_mirip = kemiripan.index(max(kemiripan))\n",
    "print(data[idx_teks_mirip])"
   ]
  }
 ],
 "metadata": {
  "kernelspec": {
   "display_name": "Python 3 (ipykernel)",
   "language": "python",
   "name": "python3"
  },
  "language_info": {
   "codemirror_mode": {
    "name": "ipython",
    "version": 3
   },
   "file_extension": ".py",
   "mimetype": "text/x-python",
   "name": "python",
   "nbconvert_exporter": "python",
   "pygments_lexer": "ipython3",
   "version": "3.10.7"
  }
 },
 "nbformat": 4,
 "nbformat_minor": 5
}
