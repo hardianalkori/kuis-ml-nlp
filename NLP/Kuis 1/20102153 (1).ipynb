{
 "cells": [
  {
   "cell_type": "code",
   "execution_count": 129,
   "id": "47afd4fd",
   "metadata": {
    "scrolled": true
   },
   "outputs": [
    {
     "data": {
      "text/html": [
       "<div>\n",
       "<style scoped>\n",
       "    .dataframe tbody tr th:only-of-type {\n",
       "        vertical-align: middle;\n",
       "    }\n",
       "\n",
       "    .dataframe tbody tr th {\n",
       "        vertical-align: top;\n",
       "    }\n",
       "\n",
       "    .dataframe thead th {\n",
       "        text-align: right;\n",
       "    }\n",
       "</style>\n",
       "<table border=\"1\" class=\"dataframe\">\n",
       "  <thead>\n",
       "    <tr style=\"text-align: right;\">\n",
       "      <th></th>\n",
       "      <th>Kalimat</th>\n",
       "    </tr>\n",
       "  </thead>\n",
       "  <tbody>\n",
       "    <tr>\n",
       "      <th>0</th>\n",
       "      <td>Dalam biologi sel adalah kumpulan materi palin...</td>\n",
       "    </tr>\n",
       "    <tr>\n",
       "      <th>1</th>\n",
       "      <td>Sel mampu melakukan semua aktivitas kehidupan ...</td>\n",
       "    </tr>\n",
       "    <tr>\n",
       "      <th>2</th>\n",
       "      <td>Kebanyakan makhluk hidup tersusun atas sel tun...</td>\n",
       "    </tr>\n",
       "    <tr>\n",
       "      <th>3</th>\n",
       "      <td>Makhluk hidup lainnya termasuk tumbuhan hewan ...</td>\n",
       "    </tr>\n",
       "    <tr>\n",
       "      <th>4</th>\n",
       "      <td>Tubuh manusia misalnya tersusun atas lebih dar...</td>\n",
       "    </tr>\n",
       "    <tr>\n",
       "      <th>...</th>\n",
       "      <td>...</td>\n",
       "    </tr>\n",
       "    <tr>\n",
       "      <th>272</th>\n",
       "      <td>Sentrifuge yang paling canggih yang disebut ul...</td>\n",
       "    </tr>\n",
       "    <tr>\n",
       "      <th>273</th>\n",
       "      <td>rotasi per menit rpm dan memberikan gaya pada ...</td>\n",
       "    </tr>\n",
       "    <tr>\n",
       "      <th>274</th>\n",
       "      <td>kali gaya gravitasi bumi</td>\n",
       "    </tr>\n",
       "    <tr>\n",
       "      <th>275</th>\n",
       "      <td>Pemutaran homogenat di dalam sentrifuge akan m...</td>\n",
       "    </tr>\n",
       "    <tr>\n",
       "      <th>276</th>\n",
       "      <td>Supernatan ini disentrifugasi kembali dan pros...</td>\n",
       "    </tr>\n",
       "  </tbody>\n",
       "</table>\n",
       "<p>277 rows × 1 columns</p>\n",
       "</div>"
      ],
      "text/plain": [
       "                                               Kalimat\n",
       "0    Dalam biologi sel adalah kumpulan materi palin...\n",
       "1    Sel mampu melakukan semua aktivitas kehidupan ...\n",
       "2    Kebanyakan makhluk hidup tersusun atas sel tun...\n",
       "3    Makhluk hidup lainnya termasuk tumbuhan hewan ...\n",
       "4    Tubuh manusia misalnya tersusun atas lebih dar...\n",
       "..                                                 ...\n",
       "272  Sentrifuge yang paling canggih yang disebut ul...\n",
       "273  rotasi per menit rpm dan memberikan gaya pada ...\n",
       "274                           kali gaya gravitasi bumi\n",
       "275  Pemutaran homogenat di dalam sentrifuge akan m...\n",
       "276  Supernatan ini disentrifugasi kembali dan pros...\n",
       "\n",
       "[277 rows x 1 columns]"
      ]
     },
     "execution_count": 129,
     "metadata": {},
     "output_type": "execute_result"
    }
   ],
   "source": [
    "import pandas as pd\n",
    "\n",
    "df = pd.read_csv(\"kalimat.csv\")\n",
    "\n",
    "df"
   ]
  },
  {
   "cell_type": "code",
   "execution_count": 130,
   "id": "ba0197f2",
   "metadata": {},
   "outputs": [
    {
     "name": "stdout",
     "output_type": "stream",
     "text": [
      "Jumlah baris pada kolom kalimat: 277\n"
     ]
    }
   ],
   "source": [
    "#Pada kolom kalimat, berapa jumlah barisnya?\n",
    "print(\"Jumlah baris pada kolom kalimat:\",df[\"Kalimat\"].shape[0])"
   ]
  },
  {
   "cell_type": "code",
   "execution_count": 131,
   "id": "7807f549",
   "metadata": {},
   "outputs": [
    {
     "name": "stdout",
     "output_type": "stream",
     "text": [
      "5127\n"
     ]
    }
   ],
   "source": [
    "# Kemudian hitunglah jumlah kata dari seluruh dokumen ini.\n",
    "import numpy as np\n",
    "kalimat = df[\"Kalimat\"].values\n",
    "\n",
    "split_ = [x.split() for x in kalimat]\n",
    "\n",
    "jumlah = 0\n",
    "for i in range(len(split_)):\n",
    "    j = len(split_[i])\n",
    "    jumlah += j\n",
    "\n",
    "print(jumlah)"
   ]
  },
  {
   "cell_type": "code",
   "execution_count": null,
   "id": "59a4ebfd",
   "metadata": {},
   "outputs": [],
   "source": []
  },
  {
   "cell_type": "code",
   "execution_count": 132,
   "id": "f5c248f0",
   "metadata": {},
   "outputs": [
    {
     "name": "stdout",
     "output_type": "stream",
     "text": [
      "sel    254\n",
      "dtype: int64\n"
     ]
    }
   ],
   "source": [
    "print(df[\"Kalimat\"].str.split(expand=True).stack().value_counts().head(1))"
   ]
  },
  {
   "cell_type": "code",
   "execution_count": 133,
   "id": "7a8f300c",
   "metadata": {},
   "outputs": [
    {
     "data": {
      "text/plain": [
       "sel      254\n",
       "yang     241\n",
       "dan      166\n",
       "dalam    100\n",
       "pada      77\n",
       "dtype: int64"
      ]
     },
     "execution_count": 133,
     "metadata": {},
     "output_type": "execute_result"
    }
   ],
   "source": [
    "df[\"Kalimat\"].str.split(expand=True).stack().value_counts().head()"
   ]
  },
  {
   "cell_type": "code",
   "execution_count": 134,
   "id": "b73c1bce",
   "metadata": {},
   "outputs": [
    {
     "name": "stdout",
     "output_type": "stream",
     "text": [
      "254 sel\n"
     ]
    }
   ],
   "source": [
    "# carilah kata yang paling banyak muncul?\n",
    "from itertools import chain\n",
    "flat = list(chain.from_iterable(split_))\n",
    "word = []\n",
    "count_ = []\n",
    "\n",
    "for i in flat:\n",
    "    count_.append(flat.count(i))\n",
    "    word.append(i)\n",
    "\n",
    "print(max(count_), word[count_.index(max(count_))])"
   ]
  },
  {
   "cell_type": "code",
   "execution_count": 184,
   "id": "9ce6acd9",
   "metadata": {},
   "outputs": [
    {
     "name": "stdout",
     "output_type": "stream",
     "text": [
      "5088 a\n"
     ]
    }
   ],
   "source": [
    "#Huruf apa yang paling sering banyak muncul?\n",
    "gabung = ''\n",
    "for i in word:\n",
    "    gabung += i\n",
    "\n",
    "pisah = list(gabung)\n",
    "jumlah = []\n",
    "for i in pisah:\n",
    "    jumlah.append(gabung.count(i))\n",
    "\n",
    "print(max(jumlah), pisah[jumlah.index(max(jumlah))])"
   ]
  },
  {
   "cell_type": "code",
   "execution_count": 186,
   "id": "4b585093",
   "metadata": {},
   "outputs": [
    {
     "name": "stdout",
     "output_type": "stream",
     "text": [
      "1 Z\n"
     ]
    }
   ],
   "source": [
    "#Huruf apa yang paling jarang banyak muncul?\n",
    "print(min(jumlah), pisah[jumlah.index(min(jumlah))])"
   ]
  },
  {
   "cell_type": "code",
   "execution_count": 136,
   "id": "533bae4d",
   "metadata": {},
   "outputs": [
    {
     "name": "stdout",
     "output_type": "stream",
     "text": [
      "665\n"
     ]
    }
   ],
   "source": [
    "#Ada berapa banyak kata yang mengandung minimal 10 huruf?\n",
    "\n",
    "jum = 0\n",
    "for i in word:\n",
    "    if len(i) >= 10:\n",
    "        jum +=1\n",
    "\n",
    "print(jum)"
   ]
  },
  {
   "cell_type": "code",
   "execution_count": 137,
   "id": "d12dde41",
   "metadata": {},
   "outputs": [
    {
     "name": "stdout",
     "output_type": "stream",
     "text": [
      "428\n"
     ]
    }
   ],
   "source": [
    "#Ada berapa banyak kata yang diawali huruf besar?\n",
    "up = 0\n",
    "for i in word:\n",
    "    if i[0].isupper() == True:\n",
    "        up += 1\n",
    "\n",
    "print(up)"
   ]
  },
  {
   "cell_type": "code",
   "execution_count": 143,
   "id": "f42c425e",
   "metadata": {},
   "outputs": [],
   "source": [
    "x_idf = df[\"Kalimat\"].values\n",
    "x_train = x_idf[:-1]"
   ]
  },
  {
   "cell_type": "code",
   "execution_count": 154,
   "id": "22afb1d5",
   "metadata": {},
   "outputs": [
    {
     "name": "stdout",
     "output_type": "stream",
     "text": [
      "[[0. 0. 0. ... 0. 0. 0.]]\n"
     ]
    }
   ],
   "source": [
    "from sklearn.feature_extraction.text import TfidfVectorizer\n",
    "\n",
    "idf = TfidfVectorizer()\n",
    "otak = idf.fit(x_train)\n",
    "x_trans = idf.transform([x_idf[-1]]).toarray()\n",
    "\n",
    "print(x_trans)"
   ]
  },
  {
   "cell_type": "code",
   "execution_count": 156,
   "id": "7d4495ec",
   "metadata": {
    "scrolled": true
   },
   "outputs": [
    {
     "name": "stdout",
     "output_type": "stream",
     "text": [
      "[[0.0, 'abad'], [0.0, 'ada'], [0.0, 'adalah'], [0.0, 'adhesi'], [0.0, 'agar'], [0.0, 'ahli'], [0.0, 'air'], [0.0, 'akan'], [0.0, 'akhir'], [0.0, 'akhirnya'], [0.0, 'akibat'], [0.0, 'aktif'], [0.0, 'aktin'], [0.0, 'aktivitas'], [0.0, 'aktivitasnya'], [0.0, 'alat'], [0.0, 'alga'], [0.0, 'aliran'], [0.0, 'alkohol'], [0.0, 'ameba'], [0.0, 'american'], [0.0, 'amerika'], [0.0, 'amino'], [0.0, 'amoeba'], [0.0, 'an'], [0.0, 'anabolik'], [0.0, 'anakan'], [0.0, 'anchoring'], [0.0, 'and'], [0.0, 'animalcule'], [0.0, 'antara'], [0.0, 'antarjari'], [0.0, 'antarmembran'], [0.0, 'antarorganisme'], [0.0, 'antarsegmen'], [0.0, 'antarsel'], [0.0, 'antarselsambungan'], [0.0, 'antartahap'], [0.0, 'antibiotik'], [0.0, 'antony'], [0.0, 'apakah'], [0.0, 'apoptosis'], [0.0, 'apoptosissel'], [0.0, 'arkea'], [0.0, 'artikel'], [0.0, 'asam'], [0.0, 'asing'], [0.0, 'aslinya'], [0.0, 'aspek'], [0.0, 'atas'], [0.0, 'atau'], [0.0, 'atp'], [0.0, 'autofagi'], [0.0, 'awal'], [0.0, 'awalmikroskop'], [0.0, 'ayam'], [0.0, 'badan'], [0.0, 'bagi'], [0.0, 'bagian'], [0.0, 'bagianbagian'], [0.0, 'bagianbagiannya'], [0.0, 'bahan'], [0.0, 'bahasa'], [0.0, 'bahkan'], [0.0, 'bahwa'], [0.0, 'baik'], [0.0, 'bakteri'], [0.0, 'bantu'], [0.0, 'bantuan'], [0.0, 'banyak'], [0.0, 'baru'], [0.0, 'batang'], [0.0, 'batas'], [0.0, 'bawah'], [0.0, 'bebas'], [0.0, 'beberapa'], [0.0, 'begitu'], [0.0, 'belanda'], [0.0, 'belum'], [0.0, 'benang'], [0.0, 'benar'], [0.0, 'benda'], [0.0, 'bentuk'], [0.0, 'bentuknya'], [0.0, 'beracun'], [0.0, 'berada'], [0.0, 'beralih'], [0.0, 'berarti'], [0.0, 'berasal'], [0.0, 'beraturan'], [0.0, 'berbagai'], [0.0, 'berbahan'], [0.0, 'berbeda'], [0.0, 'berbentuk'], [0.0, 'berdasarkan'], [0.0, 'berdekatan'], [0.0, 'berdiameter'], [0.0, 'berdiri'], [0.0, 'berdiskusi'], [0.0, 'berenergi'], [0.0, 'berfungsi'], [0.0, 'bergabung'], [0.0, 'berganti'], [0.0, 'bergantung'], [0.0, 'bergerak'], [0.0, 'bergerakgerak'], [0.0, 'berguna'], [0.0, 'berhasil'], [0.0, 'berhenti'], [0.0, 'berhubungan'], [0.0, 'berikatan'], [0.0, 'berikutnya'], [0.0, 'berisi'], [0.0, 'berkarbon'], [0.0, 'berkas'], [0.0, 'berkat'], [0.0, 'berkembang'], [0.0, 'berkomunikasi'], [0.0, 'berlangsung'], [0.0, 'berlangsungnya'], [0.0, 'berlebihan'], [0.0, 'berlensa'], [0.0, 'bermembran'], [0.0, 'berongga'], [0.0, 'berpengaruh'], [0.0, 'berperan'], [0.0, 'berpindahpindah'], [0.0, 'berporipori'], [0.0, 'berputar'], [0.0, 'bersama'], [0.0, 'bersamaan'], [0.0, 'bersebelahan'], [0.0, 'bersel'], [0.0, 'bersifat'], [0.0, 'berspekulasi'], [0.0, 'berstruktur'], [0.0, 'bertahan'], [0.0, 'bertanggung'], [0.0, 'bertukar'], [0.0, 'bertumpang'], [0.0, 'berubah'], [0.0, 'berukuran'], [0.0, 'berupa'], [0.0, 'besar'], [0.0, 'biara'], [0.0, 'biasanya'], [0.0, 'bibir'], [0.0, 'bidang'], [0.0, 'biji'], [0.0, 'bila'], [0.0, 'bilik'], [0.0, 'biochemical'], [0.0, 'biofilm'], [0.0, 'biokimia'], [0.0, 'biologi'], [0.0, 'biology'], [0.0, 'biophysical'], [0.0, 'bisa'], [0.0, 'blender'], [0.0, 'botani'], [0.0, 'brown'], [0.0, 'bumi'], [0.0, 'cabang'], [0.0, 'cadangan'], [0.0, 'cahaya'], [0.0, 'cairan'], [0.0, 'cakram'], [0.0, 'calon'], [0.0, 'camillo'], [0.0, 'canggih'], [0.0, 'cara'], [0.0, 'cell'], [0.0, 'cells'], [0.0, 'cellula'], [0.0, 'cenderung'], [0.0, 'cepat'], [0.0, 'cis'], [0.0, 'citra'], [0.0, 'colisetiap'], [0.0, 'communicating'], [0.0, 'contoh'], [0.0, 'contohnya'], [0.0, 'cukup'], [0.0, 'cytology'], [0.0, 'daerah'], [0.0, 'dalamnya'], [0.0, 'dalton'], [0.0, 'dapat'], [0.0, 'darah'], [0.0, 'dari'], [0.0, 'daripada'], [0.0, 'dasar'], [0.0, 'dasarnya'], [0.0, 'daun'], [0.0, 'daya'], [0.0, 'dekade'], [0.0, 'dekat'], [0.0, 'delapan'], [0.0, 'demikian'], [0.0, 'di'], [0.0, 'diaktifkan'], [0.0, 'diamatinya'], [0.0, 'diameter'], [0.0, 'dianggap'], [0.0, 'diangkut'], [0.0, 'diantarkan'], [0.0, 'dibatasi'], [0.0, 'dibawa'], [0.0, 'dibedakan'], [0.0, 'dibentuk'], [0.0, 'dibuahi'], [0.0, 'dibuat'], [0.0, 'dibungkus'], [0.0, 'dibutuhkan'], [0.0, 'dicerna'], [0.0, 'didirikan'], [0.0, 'dierken'], [0.0, 'diertjen'], [0.0, 'diferensiasi'], [0.0, 'digabungkan'], [0.0, 'digandakan'], [0.0, 'digolongkan'], [0.0, 'digunakan'], [0.0, 'dihubungkan'], [0.0, 'diikuti'], [0.0, 'dijadikan'], [0.0, 'dikaji'], [0.0, 'dikelilingi'], [0.0, 'dikelompokkan'], [0.0, 'dikeluarkan'], [0.0, 'dikembangkan'], [0.0, 'dikenal'], [0.0, 'dikendalikan'], [0.0, 'dikirim'], [0.0, 'diklasifikasikan'], [0.0, 'dilakukan'], [0.0, 'dilepas'], [0.0, 'dilewatkan'], [0.0, 'dilihat'], [0.0, 'dimasukkan'], [0.0, 'dimiliki'], [0.0, 'dimodifikasi'], [0.0, 'dimulai'], [0.0, 'dinamai'], [0.0, 'dinamik'], [0.0, 'dinding'], [0.0, 'dinein'], [0.0, 'dioksida'], [0.0, 'dipecah'], [0.0, 'diperbesar'], [0.0, 'dipercepat'], [0.0, 'diperdebatkan'], [0.0, 'diperkirakan'], [0.0, 'diperlukan'], [0.0, 'dipilahpilah'], [0.0, 'dipindahkan'], [0.0, 'dipisahkan'], [0.0, 'diproduksi'], [0.0, 'diproyeksikan'], [0.0, 'dirakit'], [0.0, 'diri'], [0.0, 'dirinya'], [0.0, 'dirumuskan'], [0.0, 'disatukan'], [0.0, 'disebut'], [0.0, 'disekresikan'], [0.0, 'disimpan'], [0.0, 'disimpulkan'], [0.0, 'disintesis'], [0.0, 'disiplin'], [0.0, 'distribusinya'], [0.0, 'ditandai'], [0.0, 'ditangkap'], [0.0, 'ditempatkan'], [0.0, 'ditempeli'], [0.0, 'ditemukan'], [0.0, 'diterbitkan'], [0.0, 'diterjemahkan'], [0.0, 'ditujukan'], [0.0, 'diubah'], [0.0, 'diuraikan'], [0.0, 'diuraikannya'], [0.0, 'diwariskan'], [0.0, 'diwarnai'], [0.0, 'diyakini'], [0.0, 'dna'], [0.0, 'dua'], [0.0, 'ek'], [0.0, 'eksositosis'], [0.0, 'ekspresi'], [0.0, 'ekstrasel'], [0.0, 'ekstraseluler'], [0.0, 'ekstraselulerartikel'], [0.0, 'ekuivalen'], [0.0, 'electron'], [0.0, 'elektron'], [0.0, 'embrio'], [0.0, 'empat'], [0.0, 'endomembran'], [0.0, 'endomembransistem'], [0.0, 'endoplasma'], [0.0, 'endoplasmaartikel'], [0.0, 'endoplasmaretikulum'], [0.0, 'endositosis'], [0.0, 'energi'], [0.0, 'enzim'], [0.0, 'enzimenzim'], [0.0, 'eu'], [0.0, 'eukariota'], [0.0, 'eukariotaartikel'], [0.0, 'eukariotagambaran'], [0.0, 'eukariotik'], [0.0, 'fagosit'], [0.0, 'fagositosis'], [0.0, 'faktor'], [0.0, 'fase'], [0.0, 'fenomena'], [0.0, 'fertilisasi'], [0.0, 'fibroblas'], [0.0, 'filamen'], [0.0, 'fimbria'], [0.0, 'fimbriae'], [0.0, 'fisik'], [0.0, 'flagela'], [0.0, 'flagelum'], [0.0, 'fluoresen'], [0.0, 'for'], [0.0, 'fosfolipid'], [0.0, 'fotosintesis'], [0.0, 'fragmen'], [0.0, 'fragmentasi'], [0.0, 'fraksi'], [0.0, 'fraksinasi'], [0.0, 'fungi'], [0.0, 'fungsi'], [0.0, 'fungsimetabolismeartikel'], [0.0, 'fungsinya'], [0.0, 'gabungan'], [0.0, 'gabus'], [0.0, 'gambar'], [0.0, 'gambaran'], [0.0, 'ganda'], [0.0, 'gap'], [0.0, 'garamgaram'], [0.0, 'gaya'], [0.0, 'gejala'], [0.0, 'gelembung'], [0.0, 'gen'], [0.0, 'genetik'], [0.0, 'gerakan'], [0.0, 'gigi'], [0.0, 'ginjal'], [0.0, 'glikoprotein'], [0.0, 'golgi'], [0.0, 'golgiartikel'], [0.0, 'golgistruktur'], [0.0, 'grana'], [0.0, 'granum'], [0.0, 'gravitasi'], [0.0, 'grew'], [0.0, 'hal'], [0.0, 'halus'], [0.0, 'hampir'], [0.0, 'hanya'], [0.0, 'hasil'], [0.0, 'hati'], [0.0, 'herbivora'], [0.0, 'hewan'], [0.0, 'hewanmatriks'], [0.0, 'hidrofilik'], [0.0, 'hidrogen'], [0.0, 'hidrolitik'], [0.0, 'hidup'], [0.0, 'hidupnya'], [0.0, 'hijau'], [0.0, 'hilang'], [0.0, 'hingga'], [0.0, 'ho'], [0.0, 'homogenat'], [0.0, 'homogenisasi'], [0.0, 'hooke'], [0.0, 'hormon'], [0.0, 'ia'], [0.0, 'ialah'], [0.0, 'identik'], [0.0, 'ilmiah'], [0.0, 'ilmiahnya'], [0.0, 'ilmu'], [0.0, 'ilmuwan'], [0.0, 'independen'], [0.0, 'induknya'], [0.0, 'inggris'], [0.0, 'integrasi'], [0.0, 'interaksi'], [0.0, 'intermediat'], [0.0, 'internal'], [0.0, 'inti'], [0.0, 'irisan'], [0.0, 'irisanirisan'], [0.0, 'isi'], [0.0, 'isinya'], [0.0, 'italia'], [0.0, 'itu'], [0.0, 'jakob'], [0.0, 'jalinan'], [0.0, 'jamak'], [0.0, 'jamur'], [0.0, 'jangkar'], [0.0, 'jantung'], [0.0, 'jarijari'], [0.0, 'jaring'], [0.0, 'jaringan'], [0.0, 'jauh'], [0.0, 'jawab'], [0.0, 'jejaring'], [0.0, 'jenis'], [0.0, 'jerman'], [0.0, 'jika'], [0.0, 'journal'], [0.0, 'juga'], [0.0, 'jumlah'], [0.0, 'junction'], [0.0, 'jurnal'], [0.0, 'juta'], [0.0, 'kaca'], [0.0, 'kadang'], [0.0, 'kadangkadang'], [0.0, 'kain'], [0.0, 'kajian'], [0.0, 'kaki'], [0.0, 'kaku'], [0.0, 'kala'], [0.0, 'kali'], [0.0, 'kanal'], [0.0, 'kanker'], [0.0, 'kantong'], [0.0, 'kantongkantong'], [0.0, 'kapsul'], [0.0, 'karbohidrat'], [0.0, 'karbohidratprotein'], [0.0, 'karbon'], [0.0, 'karena'], [0.0, 'karyon'], [0.0, 'kasar'], [0.0, 'kata'], [0.0, 'katabolik'], [0.0, 'katalis'], [0.0, 'ke'], [0.0, 'keadaan'], [0.0, 'kebanyakan'], [0.0, 'keberagaman'], [0.0, 'kedua'], [0.0, 'keduanya'], [0.0, 'kegiatannya'], [0.0, 'kehidupan'], [0.0, 'kehilangan'], [0.0, 'kejadian'], [0.0, 'kekebalan'], [0.0, 'kelas'], [0.0, 'kelebihan'], [0.0, 'keluar'], [0.0, 'kemajuan'], [0.0, 'kemampuan'], [0.0, 'kematian'], [0.0, 'kemudian'], [0.0, 'kepada'], [0.0, 'kerangka'], [0.0, 'keras'], [0.0, 'kerusakan'], [0.0, 'keseluruhan'], [0.0, 'ketat'], [0.0, 'ketika'], [0.0, 'keuntungan'], [0.0, 'khamir'], [0.0, 'kimia'], [0.0, 'kimiawi'], [0.0, 'kinesin'], [0.0, 'kini'], [0.0, 'kirakira'], [0.0, 'klorofil'], [0.0, 'kloroplas'], [0.0, 'kloroplasartikel'], [0.0, 'kloroplasstruktur'], [0.0, 'kolagen'], [0.0, 'komidi'], [0.0, 'kompleks'], [0.0, 'komponenkomponen'], [0.0, 'komposisinya'], [0.0, 'komunikasi'], [0.0, 'konsentrasi'], [0.0, 'konsentrasinya'], [0.0, 'kontak'], [0.0, 'kontraksi'], [0.0, 'kontraktil'], [0.0, 'kontras'], [0.0, 'koordinasi'], [0.0, 'kornea'], [0.0, 'kosong'], [0.0, 'krista'], [0.0, 'kromatin'], [0.0, 'kromosom'], [0.0, 'kuat'], [0.0, 'kukuh'], [0.0, 'kulit'], [0.0, 'kumpulan'], [0.0, 'kuorum'], [0.0, 'kurang'], [0.0, 'kusut'], [0.0, 'laboratorium'], [0.0, 'lahirlah'], [0.0, 'lain'], [0.0, 'lainnya'], [0.0, 'laju'], [0.0, 'lalu'], [0.0, 'lampu'], [0.0, 'langsung'], [0.0, 'lanjut'], [0.0, 'lapis'], [0.0, 'lapisan'], [0.0, 'latin'], [0.0, 'lebah'], [0.0, 'lebih'], [0.0, 'leeuwenhoek'], [0.0, 'lemak'], [0.0, 'lengkap'], [0.0, 'lensa'], [0.0, 'lewat'], [0.0, 'limbah'], [0.0, 'lingkar'], [0.0, 'lingkungan'], [0.0, 'lipatanlipatan'], [0.0, 'lipid'], [0.0, 'lisosom'], [0.0, 'lisosomartikel'], [0.0, 'lisosomlisosom'], [0.0, 'listrik'], [0.0, 'liur'], [0.0, 'luar'], [0.0, 'luas'], [0.0, 'luka'], [0.0, 'lumen'], [0.0, 'macam'], [0.0, 'majemuk'], [0.0, 'makalah'], [0.0, 'makalahnya'], [0.0, 'makanan'], [0.0, 'makhluk'], [0.0, 'malpighi'], [0.0, 'mamalia'], [0.0, 'mampu'], [0.0, 'manifestasi'], [0.0, 'manusia'], [0.0, 'mapan'], [0.0, 'marcello'], [0.0, 'masa'], [0.0, 'masih'], [0.0, 'masingmasing'], [0.0, 'massa'], [0.0, 'masuk'], [0.0, 'mata'], [0.0, 'matang'], [0.0, 'materi'], [0.0, 'mati'], [0.0, 'matriks'], [0.0, 'matthias'], [0.0, 'maupun'], [0.0, 'medium'], [0.0, 'meiosis'], [0.0, 'mekanisme'], [0.0, 'melahirkan'], [0.0, 'melainkan'], [0.0, 'melakukan'], [0.0, 'melalui'], [0.0, 'melayani'], [0.0, 'melekat'], [0.0, 'melepaskan'], [0.0, 'melewati'], [0.0, 'melibatkan'], [0.0, 'melihat'], [0.0, 'melimpah'], [0.0, 'melindungi'], [0.0, 'melingkupi'], [0.0, 'melintas'], [0.0, 'memasuki'], [0.0, 'membangun'], [0.0, 'membantu'], [0.0, 'membatasi'], [0.0, 'membawa'], [0.0, 'membelah'], [0.0, 'membentuk'], [0.0, 'memberi'], [0.0, 'memberikan'], [0.0, 'membran'], [0.0, 'membuat'], [0.0, 'membuatnya'], [0.0, 'membutuhkan'], [0.0, 'memengaruhi'], [0.0, 'memerinci'], [0.0, 'memicu'], [0.0, 'memilahnya'], [0.0, 'memiliki'], [0.0, 'memisahkan'], [0.0, 'mempelajari'], [0.0, 'memperbaiki'], [0.0, 'memperbanyak'], [0.0, 'memperoleh'], [0.0, 'mempertahankan'], [0.0, 'memuat'], [0.0, 'memungkinkan'], [0.0, 'menamai'], [0.0, 'menambahkan'], [0.0, 'menangkap'], [0.0, 'mencakup'], [0.0, 'mencegah'], [0.0, 'mencekung'], [0.0, 'mencerna'], [0.0, 'menciptakan'], [0.0, 'mencolok'], [0.0, 'mendeskripsikan'], [0.0, 'mendeteksi'], [0.0, 'mendetoksifikasi'], [0.0, 'mendukung'], [0.0, 'menelan'], [0.0, 'menembus'], [0.0, 'menempati'], [0.0, 'menempel'], [0.0, 'menempelkan'], [0.0, 'menentukan'], [0.0, 'menerbitkan'], [0.0, 'menerbitkannya'], [0.0, 'menerima'], [0.0, 'mengalami'], [0.0, 'mengamati'], [0.0, 'mengamatinya'], [0.0, 'mengandung'], [0.0, 'mengangkut'], [0.0, 'mengarahkan'], [0.0, 'mengatur'], [0.0, 'mengedalikan'], [0.0, 'mengelilingi'], [0.0, 'mengeluarkan'], [0.0, 'mengemas'], [0.0, 'mengenai'], [0.0, 'mengendalikan'], [0.0, 'menggambarkan'], [0.0, 'menggerakkan'], [0.0, 'menggulung'], [0.0, 'menggunakan'], [0.0, 'menggunakannya'], [0.0, 'menghasilkan'], [0.0, 'menghilangkan'], [0.0, 'menghindar'], [0.0, 'menghubungkan'], [0.0, 'mengimbangi'], [0.0, 'mengira'], [0.0, 'mengirim'], [0.0, 'mengirimkan'], [0.0, 'mengkaji'], [0.0, 'mengoksidasi'], [0.0, 'mengoordinasi'], [0.0, 'mengubah'], [0.0, 'mengungkapkan'], [0.0, 'menguraikan'], [0.0, 'menimbulkan'], [0.0, 'meningkat'], [0.0, 'meningkatkan'], [0.0, 'menit'], [0.0, 'menjabarkan'], [0.0, 'menjadi'], [0.0, 'menjalankan'], [0.0, 'menjauhi'], [0.0, 'menonjol'], [0.0, 'mensintesis'], [0.0, 'menuju'], [0.0, 'menuntun'], [0.0, 'menurut'], [0.0, 'menurutnya'], [0.0, 'menutupi'], [0.0, 'menyadari'], [0.0, 'menyalurkan'], [0.0, 'menyandikan'], [0.0, 'menyatakan'], [0.0, 'menyatu'], [0.0, 'menyatukan'], [0.0, 'menyebabkan'], [0.0, 'menyebut'], [0.0, 'menyebutnya'], [0.0, 'menyegel'], [0.0, 'menyelimuti'], [0.0, 'menyelubungi'], [0.0, 'menyembul'], [0.0, 'menyesuaikan'], [0.0, 'menyimpan'], [0.0, 'menyimpulkan'], [0.0, 'merah'], [0.0, 'merancang'], [0.0, 'merefraksikan'], [0.0, 'meregulasi'], [0.0, 'mereka'], [0.0, 'merombak'], [0.0, 'merupakan'], [0.0, 'meskipun'], [0.0, 'messenger'], [0.0, 'metabolisme'], [0.0, 'metabolismekeseluruhan'], [0.0, 'metabolismenya'], [0.0, 'microscope'], [0.0, 'mikrofilamen'], [0.0, 'mikrometer'], [0.0, 'mikroskop'], [0.0, 'mikroskopi'], [0.0, 'mikroskopik'], [0.0, 'mikroskopis'], [0.0, 'mikroskopisilia'], [0.0, 'mikroskopmikroskop'], [0.0, 'mikroskopnya'], [0.0, 'mikroskopnyamikroskop'], [0.0, 'mikrotubulus'], [0.0, 'minyak'], [0.0, 'miosin'], [0.0, 'mirip'], [0.0, 'misalnya'], [0.0, 'misi'], [0.0, 'mitokondria'], [0.0, 'mitokondriaartikel'], [0.0, 'mitokondrialah'], [0.0, 'mitokondriastruktur'], [0.0, 'mitos'], [0.0, 'mitosis'], [0.0, 'mm'], [0.0, 'modern'], [0.0, 'modifikasi'], [0.0, 'molekul'], [0.0, 'molekulmolekul'], [0.0, 'molekulnya'], [0.0, 'motonya'], [0.0, 'motor'], [0.0, 'mrna'], [0.0, 'muda'], [0.0, 'mudah'], [0.0, 'mulai'], [0.0, 'mulanya'], [0.0, 'multiseluler'], [0.0, 'muncul'], [0.0, 'munculnya'], [0.0, 'mutasi'], [0.0, 'mycoplasma'], [0.0, 'nama'], [0.0, 'namun'], [0.0, 'nantinya'], [0.0, 'nehemiah'], [0.0, 'new'], [0.0, 'nm'], [0.0, 'normalmeningkat'], [0.0, 'nukleoid'], [0.0, 'nukleolus'], [0.0, 'nukleoplasma'], [0.0, 'nukleus'], [0.0, 'nukleusartikel'], [0.0, 'nukleusnya'], [0.0, 'nutrien'], [0.0, 'obatobatan'], [0.0, 'occluding'], [0.0, 'of'], [0.0, 'oksidasi'], [0.0, 'oksigen'], [0.0, 'oleh'], [0.0, 'omnis'], [0.0, 'organ'], [0.0, 'organel'], [0.0, 'organelorganel'], [0.0, 'organik'], [0.0, 'organisme'], [0.0, 'osmotik'], [0.0, 'otot'], [0.0, 'paling'], [0.0, 'panjang'], [0.0, 'para'], [0.0, 'partikelpartikel'], [0.0, 'patologis'], [0.0, 'payar'], [0.0, 'pecah'], [0.0, 'pedagang'], [0.0, 'pelekatan'], [0.0, 'pelepasan'], [0.0, 'pelipatan'], [0.0, 'pemadatan'], [0.0, 'pembawa'], [0.0, 'pembelahan'], [0.0, 'pembentukan'], [0.0, 'pemberian'], [0.0, 'pembuatan'], [0.0, 'pembuluh'], [0.0, 'pemecahan'], [0.0, 'pemisahan'], [0.0, 'pemutaran'], [0.0, 'penambahan'], [0.0, 'penampakannya'], [0.0, 'penanda'], [0.0, 'pendek'], [0.0, 'pendekatan'], [0.0, 'pendukung'], [0.0, 'penemuan'], [0.0, 'penemuannya'], [0.0, 'penemunya'], [0.0, 'penetralan'], [0.0, 'pengait'], [0.0, 'pengamatan'], [0.0, 'pengamatannya'], [0.0, 'pengaturan'], [0.0, 'pengembangan'], [0.0, 'pengendalian'], [0.0, 'pengganti'], [0.0, 'pengguna'], [0.0, 'penggunaan'], [0.0, 'penghalang'], [0.0, 'pengindraan'], [0.0, 'pengisapan'], [0.0, 'pengomunikasi'], [0.0, 'penguraian'], [0.0, 'penjara'], [0.0, 'pensinyalan'], [0.0, 'penting'], [0.0, 'pentingnya'], [0.0, 'penyebaran'], [0.0, 'penyempurnaan'], [0.0, 'penyumbat'], [0.0, 'penyusun'], [0.0, 'penyusunan'], [0.0, 'penyusutan'], [0.0, 'peptidoglikan'], [0.0, 'per'], [0.0, 'peralatan'], [0.0, 'peralihan'], [0.0, 'perambatan'], [0.0, 'perbanyakan'], [0.0, 'perbesaran'], [0.0, 'peredaran'], [0.0, 'pergerakan'], [0.0, 'perhimpunan'], [0.0, 'perilaku'], [0.0, 'perincian'], [0.0, 'periode'], [0.0, 'perkecambahan'], [0.0, 'perkembangan'], [0.0, 'perkumpulan'], [0.0, 'perlengkapan'], [0.0, 'perluasan'], [0.0, 'permukaan'], [0.0, 'permukaannya'], [0.0, 'pernah'], [0.0, 'peroksida'], [0.0, 'peroksisom'], [0.0, 'peroksisomartikel'], [0.0, 'peroksisomperoksisom'], [0.0, 'perombakan'], [0.0, 'persen'], [0.0, 'pertahanan'], [0.0, 'pertama'], [0.0, 'pertemuan'], [0.0, 'pertengahan'], [0.0, 'pertumbuhan'], [0.0, 'pesan'], [0.0, 'pesat'], [0.0, 'pewarnaan'], [0.0, 'pigmen'], [0.0, 'pili'], [0.0, 'pilus'], [0.0, 'pipih'], [0.0, 'plasma'], [0.0, 'plasmid'], [0.0, 'plasmodesmata'], [0.0, 'plastid'], [0.0, 'pohon'], [0.0, 'polimer'], [0.0, 'polisakarida'], [0.0, 'polos'], [0.0, 'populasi'], [0.0, 'pori'], [0.0, 'poripori'], [0.0, 'poriporinya'], [0.0, 'posisi'], [0.0, 'prinsip'], [0.0, 'pro'], [0.0, 'produk'], [0.0, 'prokariota'], [0.0, 'prokariotaartikel'], [0.0, 'prokariotagambaran'], [0.0, 'prokariotik'], [0.0, 'proses'], [0.0, 'protein'], [0.0, 'proteoglikan'], [0.0, 'protista'], [0.0, 'protozoa'], [0.0, 'pseudopodia'], [0.0, 'publikasi'], [0.0, 'pula'], [0.0, 'puluhan'], [0.0, 'putar'], [0.0, 'putih'], [0.0, 'quorum'], [0.0, 'racun'], [0.0, 'rancangan'], [0.0, 'rangka'], [0.0, 'ratarata'], [0.0, 'ratusan'], [0.0, 'reaksi'], [0.0, 'reaksireaksi'], [0.0, 'relatif'], [0.0, 'remak'], [0.0, 'renaisans'], [0.0, 'rendah'], [0.0, 'replikasi'], [0.0, 'reproduksi'], [0.0, 'reseptor'], [0.0, 'resistansi'], [0.0, 'resolusi'], [0.0, 'respirasi'], [0.0, 'respons'], [0.0, 'reticulum'], [0.0, 'retikulum'], [0.0, 'ribosom'], [0.0, 'ribosomartikel'], [0.0, 'ribosomnya'], [0.0, 'ribosomribosom'], [0.0, 'rinci'], [0.0, 'rintangan'], [0.0, 'risiko'], [0.0, 'rna'], [0.0, 'robert'], [0.0, 'rongga'], [0.0, 'rotasi'], [0.0, 'royal'], [0.0, 'rpm'], [0.0, 'ruang'], [0.0, 'ruangan'], [0.0, 'rudolf'], [0.0, 'rupa'], [0.0, 'rusak'], [0.0, 'saat'], [0.0, 'saja'], [0.0, 'salah'], [0.0, 'saling'], [0.0, 'saluran'], [0.0, 'sama'], [0.0, 'sambungan'], [0.0, 'sampai'], [0.0, 'sampel'], [0.0, 'sampingan'], [0.0, 'sangat'], [0.0, 'saraf'], [0.0, 'sarang'], [0.0, 'satu'], [0.0, 'scanning'], [0.0, 'schleiden'], [0.0, 'schwann'], [0.0, 'sebagai'], [0.0, 'sebagaimana'], [0.0, 'sebagian'], [0.0, 'sebaliknya'], [0.0, 'sebelum'], [0.0, 'sebelumnya'], [0.0, 'sebenarnya'], [0.0, 'sebuah'], [0.0, 'sebut'], [0.0, 'secara'], [0.0, 'secepat'], [0.0, 'second'], [0.0, 'sedang'], [0.0, 'sedangkan'], [0.0, 'sedemikian'], [0.0, 'sederhana'], [0.0, 'seiring'], [0.0, 'sejak'], [0.0, 'sejalan'], [0.0, 'sejarahpenemuan'], [0.0, 'sejenis'], [0.0, 'sejumlah'], [0.0, 'sekali'], [0.0, 'sekalipun'], [0.0, 'sekitar'], [0.0, 'sekresi'], [0.0, 'selain'], [0.0, 'selama'], [0.0, 'selanjutnya'], [0.0, 'selantara'], [0.0, 'selartikel'], [0.0, 'selbeberapa'], [0.0, 'selbiologi'], [0.0, 'seldiferensiasi'], [0.0, 'selektif'], [0.0, 'selfraksinasi'], [0.0, 'selkemampuan'], [0.0, 'selmembran'], [0.0, 'selnukleus'], [0.0, 'selnya'], [0.0, 'selsel'], [0.0, 'selselsel'], [0.0, 'selubung'], [0.0, 'seluler'], [0.0, 'selulosa'], [0.0, 'seluruh'], [0.0, 'selvideo'], [0.0, 'sem'], [0.0, 'semacam'], [0.0, 'sementara'], [0.0, 'semicair'], [0.0, 'sempurna'], [0.0, 'semua'], [0.0, 'semuanya'], [0.0, 'sendiri'], [0.0, 'sensing'], [0.0, 'sentral'], [0.0, 'sentrifugal'], [0.0, 'sentrifugasi'], [0.0, 'sentrifuge'], [0.0, 'sentriol'], [0.0, 'senyawa'], [0.0, 'senyawasenyawa'], [0.0, 'seorang'], [0.0, 'sepanjang'], [0.0, 'sependapat'], [0.0, 'seperti'], [0.0, 'sepuluh'], [0.0, 'serabut'], [0.0, 'serangkaian'], [0.0, 'serat'], [0.0, 'serikat'], [0.0, 'sering'], [0.0, 'serta'], [0.0, 'serupa'], [0.0, 'sesuatu'], [0.0, 'setelah'], [0.0, 'setelahnya'], [0.0, 'setumpuk'], [0.0, 'sewaktu'], [0.0, 'siap'], [0.0, 'siklus'], [0.0, 'silia'], [0.0, 'silinder'], [0.0, 'sintesis'], [0.0, 'sinyal'], [0.0, 'sisi'], [0.0, 'sistem'], [0.0, 'sisterna'], [0.0, 'sitologi'], [0.0, 'sitoplasma'], [0.0, 'sitoskeleton'], [0.0, 'sitoskeletonnya'], [0.0, 'sitoskeletonsitoskeleton'], [0.0, 'sitosol'], [0.0, 'skeleton'], [0.0, 'society'], [0.0, 'spermatozoid'], [0.0, 'spesiesnya'], [0.0, 'spesimen'], [0.0, 'stroma'], [0.0, 'struktur'], [0.0, 'struktural'], [0.0, 'struktursemua'], [0.0, 'strukturstruktur'], [0.0, 'suatu'], [0.0, 'subselulermembranmembran'], [0.0, 'subunit'], [0.0, 'sudah'], [0.0, 'sumber'], [0.0, 'surat'], [0.0, 'suratnya'], [0.0, 'susunan'], [0.0, 'tabung'], [0.0, 'tahaptahap'], [0.0, 'tahun'], [0.0, 'tali'], [0.0, 'tambahan'], [0.0, 'tampak'], [0.0, 'tangan'], [0.0, 'target'], [0.0, 'tebal'], [0.0, 'tegar'], [0.0, 'tekanan'], [0.0, 'teknik'], [0.0, 'telah'], [0.0, 'telanjang'], [0.0, 'telur'], [0.0, 'tem'], [0.0, 'tempat'], [0.0, 'tempatnya'], [0.0, 'tentang'], [0.0, 'tenunan'], [0.0, 'teori'], [0.0, 'terakhir'], [0.0, 'terbentuk'], [0.0, 'terbuat'], [0.0, 'terdapat'], [0.0, 'terdiri'], [0.0, 'terdorong'], [0.0, 'terganggu'], [0.0, 'terhadap'], [0.0, 'terhubung'], [0.0, 'terikat'], [0.0, 'terjadi'], [0.0, 'terjadinya'], [0.0, 'terkait'], [0.0, 'terkecil'], [0.0, 'terkenal'], [0.0, 'terkendali'], [0.0, 'terkonsentrasi'], [0.0, 'terkoordinasi'], [0.0, 'terletak'], [0.0, 'terlibat'], [0.0, 'termasuk'], [0.0, 'terorganisasi'], [0.0, 'terpisah'], [0.0, 'terprogram'], [0.0, 'terprogramartikel'], [0.0, 'tersebut'], [0.0, 'terselubung'], [0.0, 'terspesialisasi'], [0.0, 'tersuspensi'], [0.0, 'tersusun'], [0.0, 'tertanam'], [0.0, 'tertentu'], [0.0, 'terutama'], [0.0, 'tetangganya'], [0.0, 'tetap'], [0.0, 'tetapi'], [0.0, 'theodor'], [0.0, 'tiap'], [0.0, 'tiba'], [0.0, 'tidak'], [0.0, 'tiga'], [0.0, 'tight'], [0.0, 'tikus'], [0.0, 'tilakoid'], [0.0, 'tilakoidtilakoid'], [0.0, 'tindih'], [0.0, 'tipe'], [0.0, 'tipis'], [0.0, 'titiktitik'], [0.0, 'tonoplas'], [0.0, 'trakea'], [0.0, 'trans'], [0.0, 'transduksi'], [0.0, 'transfer'], [0.0, 'transmembran'], [0.0, 'transmisi'], [0.0, 'transmission'], [0.0, 'transparan'], [0.0, 'transpor'], [0.0, 'tubuh'], [0.0, 'tugas'], [0.0, 'tujuan'], [0.0, 'tujuannya'], [0.0, 'tulang'], [0.0, 'tulisannya'], [0.0, 'tumbuh'], [0.0, 'tumbuhan'], [0.0, 'tumbuhandinding'], [0.0, 'tumor'], [0.0, 'tumoryaitu'], [0.0, 'tumpukan'], [0.0, 'tunggal'], [0.0, 'turgor'], [0.0, 'ukuran'], [0.0, 'ultrasentrifuge'], [0.0, 'ultrasuara'], [0.0, 'umum'], [0.0, 'umumnya'], [0.0, 'uniseluler'], [0.0, 'unit'], [0.0, 'universal'], [0.0, 'untuk'], [0.0, 'urai'], [0.0, 'urutan'], [0.0, 'usaha'], [0.0, 'utama'], [0.0, 'utricle'], [0.0, 'vacuolum'], [0.0, 'vakuola'], [0.0, 'vakuolaartikel'], [0.0, 'vakuolakebanyakan'], [0.0, 'van'], [0.0, 'variasi'], [0.0, 'vertebrata'], [0.0, 'vesikel'], [0.0, 'virchow'], [0.0, 'volume'], [0.0, 'volumenya'], [0.0, 'wajib'], [0.0, 'waktu'], [0.0, 'walaupun'], [0.0, 'yaitu'], [0.0, 'york'], [0.0, 'yunani'], [0.0, 'zat'], [0.07274322818270251, 'sel'], [0.0830458140391538, 'dan'], [0.10494477785754316, 'dalam'], [0.10846656837516382, 'pada'], [0.1276698229161018, 'dengan'], [0.16193329677640086, 'ini'], [0.18839583631893111, 'kecil'], [0.21564461905072713, 'yang'], [0.21863798209870186, 'tahap'], [0.22506213133908512, 'komponen'], [0.2324782673746123, 'sehingga'], [0.24124969458406903, 'setiap'], [0.2658253391451365, 'lama'], [0.2658253391451365, 'tinggi'], [0.28533212563975024, 'berurutan'], [0.28533212563975024, 'kecepatan'], [0.28533212563975024, 'kembali'], [0.28533212563975024, 'pelet'], [0.28533212563975024, 'supernatan'], [0.28533212563975024, 'terkumpul']]\n"
     ]
    }
   ],
   "source": [
    "rangkum = []\n",
    "for k,v in enumerate(otak.get_feature_names()):\n",
    "    rank = [x_trans[0,k],v]\n",
    "    rangkum.append(rank)\n",
    "print(sorted(rangkum))\n",
    "        "
   ]
  },
  {
   "cell_type": "code",
   "execution_count": 162,
   "id": "ef3197a4",
   "metadata": {},
   "outputs": [
    {
     "name": "stdout",
     "output_type": "stream",
     "text": [
      "[[0.28533212563975024, 'berurutan'], [0.10494477785754316, 'dalam'], [0.0830458140391538, 'dan'], [0.1276698229161018, 'dengan'], [0.16193329677640086, 'ini'], [0.28533212563975024, 'kecepatan'], [0.18839583631893111, 'kecil'], [0.28533212563975024, 'kembali'], [0.22506213133908512, 'komponen'], [0.2658253391451365, 'lama'], [0.10846656837516382, 'pada'], [0.28533212563975024, 'pelet'], [0.2324782673746123, 'sehingga'], [0.07274322818270251, 'sel'], [0.24124969458406903, 'setiap'], [0.28533212563975024, 'supernatan'], [0.21863798209870186, 'tahap'], [0.28533212563975024, 'terkumpul'], [0.2658253391451365, 'tinggi'], [0.21564461905072713, 'yang']]\n"
     ]
    }
   ],
   "source": [
    "penting = []\n",
    "for i in range(len(rangkum)):\n",
    "    if rangkum[i][0] != 0:\n",
    "        penting.append(rangkum[i])\n",
    "\n",
    "print(penting)"
   ]
  },
  {
   "cell_type": "code",
   "execution_count": 171,
   "id": "2c60e629",
   "metadata": {},
   "outputs": [
    {
     "name": "stdout",
     "output_type": "stream",
     "text": [
      "[[0.21564461905072713, 'yang'], [0.21863798209870186, 'tahap'], [0.2658253391451365, 'tinggi'], [0.28533212563975024, 'supernatan'], [0.28533212563975024, 'terkumpul']]\n"
     ]
    }
   ],
   "source": [
    "print(sorted(penting[15:20]))"
   ]
  }
 ],
 "metadata": {
  "kernelspec": {
   "display_name": "Python 3 (ipykernel)",
   "language": "python",
   "name": "python3"
  },
  "language_info": {
   "codemirror_mode": {
    "name": "ipython",
    "version": 3
   },
   "file_extension": ".py",
   "mimetype": "text/x-python",
   "name": "python",
   "nbconvert_exporter": "python",
   "pygments_lexer": "ipython3",
   "version": "3.10.5"
  }
 },
 "nbformat": 4,
 "nbformat_minor": 5
}
